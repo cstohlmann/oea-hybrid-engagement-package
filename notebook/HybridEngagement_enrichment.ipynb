{
  "cells": [
    {
      "cell_type": "markdown",
      "source": [
        "# Hybrid Engagement Package Enrichment Notebook\r\n",
        "This notebook is intended to explore the capabilities of the OEA Hybrid Engagement package by processing SIS student data into a single table.\r\n",
        "\r\n",
        "**It is necessary that you review and execute the Microsoft Education Insights and Contoso SIS module pipelines, before testing this Hybrid Engagement enrichment notebook.**\r\n",
        "\r\n",
        "Below describes the execution process of the notebook:\r\n",
        "* First initialize the OEA framework class noptebook.\r\n",
        "* Then the notebook processes the Insights module roster data and Contoso SIS module studentattendance data ingested into stage 2, by re-writing the schema to only include student data for mapping of the package Power BI dashboard. The tables used are:\r\n",
        "    * stage2p/\r\n",
        "        * contoso_sis/studentattendance_pseudo,\r\n",
        "        * M365/AadUser_pseudo,\r\n",
        "        * M365/AadUserPersonMapping_pseudo,\r\n",
        "        * M365/Person_pseudo,\r\n",
        "        * M365/PersonOrganizationRole_pseudo,\r\n",
        "        * M365/Organization_pseudo, and\r\n",
        "        * M365/RefDefinition_pseudo.\r\n",
        "    * stage2np/M365/\r\n",
        "        * AadUser_lookup, and\r\n",
        "        * Person_lookup.\r\n",
        "* The final resulting tables are written to stage 3:\r\n",
        "    * stage3p/hybrid_engagement/Student_pseudo\r\n",
        "    * stage3np/hybrid_engagement/Student_lookup"
      ],
      "metadata": {
        "nteract": {
          "transient": {
            "deleting": false
          }
        }
      }
    },
    {
      "cell_type": "code",
      "source": [
        "%run /OEA_py"
      ],
      "outputs": [
        {
          "output_type": "display_data",
          "data": {
            "application/vnd.livy.statement-meta+json": {
              "spark_pool": null,
              "session_id": "57",
              "statement_id": -1,
              "state": "finished",
              "livy_statement_state": "available",
              "queued_time": "2022-09-29T16:25:17.8337141Z",
              "session_start_time": null,
              "execution_start_time": "2022-09-29T16:30:13.016643Z",
              "execution_finish_time": "2022-09-29T16:30:13.0170275Z",
              "spark_jobs": null
            },
            "text/plain": "StatementMeta(, 57, -1, Finished, Available)"
          },
          "metadata": {}
        },
        {
          "output_type": "stream",
          "name": "stdout",
          "text": [
            "2022-09-29 16:30:12,903 - OEA - DEBUG - OEA initialized.\nOEA initialized.\n"
          ]
        }
      ],
      "execution_count": 1,
      "metadata": {
        "jupyter": {
          "source_hidden": false,
          "outputs_hidden": false
        },
        "nteract": {
          "transient": {
            "deleting": false
          }
        }
      }
    },
    {
      "cell_type": "code",
      "source": [
        "# 0) Initialize the OEA framework.\r\n",
        "oea = OEA()"
      ],
      "outputs": [
        {
          "output_type": "display_data",
          "data": {
            "application/vnd.livy.statement-meta+json": {
              "spark_pool": "sparkMed",
              "session_id": "57",
              "statement_id": 3,
              "state": "finished",
              "livy_statement_state": "available",
              "queued_time": "2022-09-29T16:25:32.5927735Z",
              "session_start_time": null,
              "execution_start_time": "2022-09-29T16:30:13.1574033Z",
              "execution_finish_time": "2022-09-29T16:30:20.0066525Z",
              "spark_jobs": null
            },
            "text/plain": "StatementMeta(sparkMed, 57, 3, Finished, Available)"
          },
          "metadata": {}
        },
        {
          "output_type": "stream",
          "name": "stdout",
          "text": [
            "2022-09-29 16:30:19,754 - OEA - DEBUG - OEA initialized.\n2022-09-29 16:30:19,754 - OEA - DEBUG - OEA initialized.\nOEA initialized.\n"
          ]
        }
      ],
      "execution_count": 2,
      "metadata": {
        "jupyter": {
          "source_hidden": false,
          "outputs_hidden": false
        },
        "nteract": {
          "transient": {
            "deleting": false
          }
        }
      }
    },
    {
      "cell_type": "markdown",
      "source": [
        "## Data Aggregations\r\n",
        "\r\n",
        "### SIS Student_pseudo table creation"
      ],
      "metadata": {
        "nteract": {
          "transient": {
            "deleting": false
          }
        }
      }
    },
    {
      "cell_type": "code",
      "source": [
        "dfContosoSIS_studentattendance = oea.load('contoso_sis', 'studentattendance_pseudo')\r\n",
        "dfInsights_aaduserpersonmapping = oea.load('M365', 'AadUserPersonMapping_pseudo')\r\n",
        "dfInsights_person = oea.load('M365', 'Person_pseudo')\r\n",
        "dfInsights_personOrgRole = oea.load('M365', 'PersonOrganizationRole_pseudo')\r\n",
        "dfInsights_organization = oea.load('M365', 'Organization_pseudo')\r\n",
        "dfInsights_refDefinition = oea.load('M365', 'RefDefinition_pseudo')"
      ],
      "outputs": [
        {
          "output_type": "display_data",
          "data": {
            "application/vnd.livy.statement-meta+json": {
              "spark_pool": "sparkMed",
              "session_id": "57",
              "statement_id": 21,
              "state": "finished",
              "livy_statement_state": "available",
              "queued_time": "2022-09-29T17:40:10.8870818Z",
              "session_start_time": null,
              "execution_start_time": "2022-09-29T17:40:11.0100876Z",
              "execution_finish_time": "2022-09-29T17:40:19.6231904Z",
              "spark_jobs": null
            },
            "text/plain": "StatementMeta(sparkMed, 57, 21, Finished, Available)"
          },
          "metadata": {}
        }
      ],
      "execution_count": 20,
      "metadata": {
        "jupyter": {
          "source_hidden": false,
          "outputs_hidden": true
        },
        "nteract": {
          "transient": {
            "deleting": false
          }
        }
      }
    },
    {
      "cell_type": "code",
      "source": [
        "dfInsights = dfInsights_personOrgRole.join(dfInsights_person, dfInsights_personOrgRole.PersonId_pseudonym == dfInsights_person.Id_pseudonym, how='inner')\r\n",
        "dfInsights = dfInsights.select('PersonId_pseudonym', 'Surname', 'GivenName', 'MiddleName', 'RefRoleId', 'RefGradeLevelId', 'OrganizationId')\r\n",
        "display(dfInsights.limit(10))"
      ],
      "outputs": [
        {
          "output_type": "display_data",
          "data": {
            "application/vnd.livy.statement-meta+json": {
              "spark_pool": "sparkMed",
              "session_id": "57",
              "statement_id": 5,
              "state": "finished",
              "livy_statement_state": "available",
              "queued_time": "2022-09-29T16:25:42.18322Z",
              "session_start_time": null,
              "execution_start_time": "2022-09-29T16:30:30.8145287Z",
              "execution_finish_time": "2022-09-29T16:30:34.8229538Z",
              "spark_jobs": null
            },
            "text/plain": "StatementMeta(sparkMed, 57, 5, Finished, Available)"
          },
          "metadata": {}
        },
        {
          "output_type": "display_data",
          "data": {
            "application/vnd.synapse.widget-view+json": {
              "widget_id": "18bcdf1c-3ec1-4f39-b3d4-6aae399b48f1",
              "widget_type": "Synapse.DataFrame"
            },
            "text/plain": "SynapseWidget(Synapse.DataFrame, 18bcdf1c-3ec1-4f39-b3d4-6aae399b48f1)"
          },
          "metadata": {}
        }
      ],
      "execution_count": 4,
      "metadata": {
        "jupyter": {
          "source_hidden": false,
          "outputs_hidden": false
        },
        "nteract": {
          "transient": {
            "deleting": false
          }
        },
        "collapsed": false
      }
    },
    {
      "cell_type": "code",
      "source": [
        "dfInsights = dfInsights.join(dfInsights_organization, dfInsights.OrganizationId == dfInsights_organization.Id, how='inner')\r\n",
        "dfInsights = dfInsights.withColumnRenamed('Name', 'OrganizationName')\r\n",
        "dfInsights = dfInsights.select('PersonId_pseudonym', 'Surname', 'GivenName', 'MiddleName', 'RefRoleId', 'RefGradeLevelId', 'OrganizationId', 'OrganizationName')\r\n",
        "display(dfInsights.limit(10))"
      ],
      "outputs": [
        {
          "output_type": "display_data",
          "data": {
            "application/vnd.livy.statement-meta+json": {
              "spark_pool": "sparkMed",
              "session_id": "57",
              "statement_id": 6,
              "state": "finished",
              "livy_statement_state": "available",
              "queued_time": "2022-09-29T16:25:45.1821298Z",
              "session_start_time": null,
              "execution_start_time": "2022-09-29T16:30:34.9595451Z",
              "execution_finish_time": "2022-09-29T16:30:38.914011Z",
              "spark_jobs": null
            },
            "text/plain": "StatementMeta(sparkMed, 57, 6, Finished, Available)"
          },
          "metadata": {}
        },
        {
          "output_type": "display_data",
          "data": {
            "application/vnd.synapse.widget-view+json": {
              "widget_id": "58cb8c18-6624-4d45-9c71-c6d67a887f80",
              "widget_type": "Synapse.DataFrame"
            },
            "text/plain": "SynapseWidget(Synapse.DataFrame, 58cb8c18-6624-4d45-9c71-c6d67a887f80)"
          },
          "metadata": {}
        }
      ],
      "execution_count": 5,
      "metadata": {
        "jupyter": {
          "source_hidden": false,
          "outputs_hidden": false
        },
        "nteract": {
          "transient": {
            "deleting": false
          }
        },
        "collapsed": false
      }
    },
    {
      "cell_type": "code",
      "source": [
        "dfInsights = dfInsights.join(dfInsights_refDefinition, dfInsights.RefRoleId == dfInsights_refDefinition.Id, how='inner')\r\n",
        "dfInsights = dfInsights.withColumnRenamed('Code', 'PersonRole')\r\n",
        "dfInsights = dfInsights.select('PersonId_pseudonym', 'Surname', 'GivenName', 'MiddleName', 'PersonRole', 'RefGradeLevelId', 'OrganizationId', 'OrganizationName')\r\n",
        "display(dfInsights.limit(10))"
      ],
      "outputs": [
        {
          "output_type": "display_data",
          "data": {
            "application/vnd.livy.statement-meta+json": {
              "spark_pool": "sparkMed",
              "session_id": "57",
              "statement_id": 7,
              "state": "finished",
              "livy_statement_state": "available",
              "queued_time": "2022-09-29T16:25:47.5055462Z",
              "session_start_time": null,
              "execution_start_time": "2022-09-29T16:30:39.0332422Z",
              "execution_finish_time": "2022-09-29T16:30:43.0429387Z",
              "spark_jobs": null
            },
            "text/plain": "StatementMeta(sparkMed, 57, 7, Finished, Available)"
          },
          "metadata": {}
        },
        {
          "output_type": "display_data",
          "data": {
            "application/vnd.synapse.widget-view+json": {
              "widget_id": "7569d290-41b1-4eea-8ab4-99059728d559",
              "widget_type": "Synapse.DataFrame"
            },
            "text/plain": "SynapseWidget(Synapse.DataFrame, 7569d290-41b1-4eea-8ab4-99059728d559)"
          },
          "metadata": {}
        }
      ],
      "execution_count": 6,
      "metadata": {
        "jupyter": {
          "source_hidden": false,
          "outputs_hidden": false
        },
        "nteract": {
          "transient": {
            "deleting": false
          }
        },
        "collapsed": false
      }
    },
    {
      "cell_type": "code",
      "source": [
        "dfInsights = dfInsights.join(dfInsights_refDefinition, dfInsights.RefGradeLevelId == dfInsights_refDefinition.Id, how='inner')\r\n",
        "dfInsights = dfInsights.withColumnRenamed('Code', 'StudentGrade')\r\n",
        "dfInsights = dfInsights.select('PersonId_pseudonym', 'Surname', 'GivenName', 'MiddleName', 'PersonRole', 'StudentGrade', 'OrganizationId', 'OrganizationName')\r\n",
        "display(dfInsights.limit(10))"
      ],
      "outputs": [
        {
          "output_type": "display_data",
          "data": {
            "application/vnd.livy.statement-meta+json": {
              "spark_pool": "sparkMed",
              "session_id": "57",
              "statement_id": 8,
              "state": "finished",
              "livy_statement_state": "available",
              "queued_time": "2022-09-29T16:25:49.3476814Z",
              "session_start_time": null,
              "execution_start_time": "2022-09-29T16:30:43.1601967Z",
              "execution_finish_time": "2022-09-29T16:30:47.0897971Z",
              "spark_jobs": null
            },
            "text/plain": "StatementMeta(sparkMed, 57, 8, Finished, Available)"
          },
          "metadata": {}
        },
        {
          "output_type": "display_data",
          "data": {
            "application/vnd.synapse.widget-view+json": {
              "widget_id": "27f23c91-78ee-4fea-8948-211f34dafffe",
              "widget_type": "Synapse.DataFrame"
            },
            "text/plain": "SynapseWidget(Synapse.DataFrame, 27f23c91-78ee-4fea-8948-211f34dafffe)"
          },
          "metadata": {}
        }
      ],
      "execution_count": 7,
      "metadata": {
        "jupyter": {
          "source_hidden": false,
          "outputs_hidden": false
        },
        "nteract": {
          "transient": {
            "deleting": false
          }
        },
        "collapsed": false
      }
    },
    {
      "cell_type": "code",
      "source": [
        "dfInsights = dfInsights.join(dfInsights_aaduserpersonmapping, dfInsights.PersonId_pseudonym == dfInsights_aaduserpersonmapping.PersonId_pseudonym, how='inner')\r\n",
        "dfInsights = dfInsights.withColumnRenamed('ObjectId_pseudonym', 'StudentId_pseudonym')\r\n",
        "dfInsights = dfInsights.select('StudentId_pseudonym', 'Surname', 'GivenName', 'MiddleName', 'PersonRole', 'StudentGrade', 'OrganizationId', 'OrganizationName')\r\n",
        "display(dfInsights.limit(10))"
      ],
      "outputs": [
        {
          "output_type": "display_data",
          "data": {
            "application/vnd.livy.statement-meta+json": {
              "spark_pool": "sparkMed",
              "session_id": "57",
              "statement_id": 9,
              "state": "finished",
              "livy_statement_state": "available",
              "queued_time": "2022-09-29T16:25:51.381888Z",
              "session_start_time": null,
              "execution_start_time": "2022-09-29T16:30:47.2162008Z",
              "execution_finish_time": "2022-09-29T16:30:51.4144299Z",
              "spark_jobs": null
            },
            "text/plain": "StatementMeta(sparkMed, 57, 9, Finished, Available)"
          },
          "metadata": {}
        },
        {
          "output_type": "display_data",
          "data": {
            "application/vnd.synapse.widget-view+json": {
              "widget_id": "d6ed1bd5-02fe-4a5f-afcb-a8e804f2a9af",
              "widget_type": "Synapse.DataFrame"
            },
            "text/plain": "SynapseWidget(Synapse.DataFrame, d6ed1bd5-02fe-4a5f-afcb-a8e804f2a9af)"
          },
          "metadata": {}
        }
      ],
      "execution_count": 8,
      "metadata": {
        "jupyter": {
          "source_hidden": false,
          "outputs_hidden": false
        },
        "nteract": {
          "transient": {
            "deleting": false
          }
        },
        "collapsed": false
      }
    },
    {
      "cell_type": "markdown",
      "source": [
        "### StudentAttendance Enrichment"
      ],
      "metadata": {
        "nteract": {
          "transient": {
            "deleting": false
          }
        }
      }
    },
    {
      "cell_type": "code",
      "source": [
        "dfContosoSIS_studentattendance = dfContosoSIS_studentattendance.select('student_id_pseudonym', 'AttendanceCode')\r\n",
        "dfContosoSIS_studentattendance = dfContosoSIS_studentattendance.withColumn('AttendanceCode_value', F.when(F.col('AttendanceCode') == \"P\", 1).otherwise(0))\r\n",
        "dfAttendance = dfContosoSIS_studentattendance.groupBy(\"student_id_pseudonym\").mean(\"AttendanceCode_value\").alias(\"AttendanceAverage\")\r\n",
        "display(dfAttendance.limit(10))"
      ],
      "outputs": [
        {
          "output_type": "display_data",
          "data": {
            "application/vnd.livy.statement-meta+json": {
              "spark_pool": "sparkMed",
              "session_id": "57",
              "statement_id": 22,
              "state": "finished",
              "livy_statement_state": "available",
              "queued_time": "2022-09-29T17:40:24.1025205Z",
              "session_start_time": null,
              "execution_start_time": "2022-09-29T17:40:24.2159224Z",
              "execution_finish_time": "2022-09-29T17:40:27.0742105Z",
              "spark_jobs": null
            },
            "text/plain": "StatementMeta(sparkMed, 57, 22, Finished, Available)"
          },
          "metadata": {}
        },
        {
          "output_type": "display_data",
          "data": {
            "application/vnd.synapse.widget-view+json": {
              "widget_id": "0ab3acef-3f52-4ea0-8881-c43b3892274c",
              "widget_type": "Synapse.DataFrame"
            },
            "text/plain": "SynapseWidget(Synapse.DataFrame, 0ab3acef-3f52-4ea0-8881-c43b3892274c)"
          },
          "metadata": {}
        }
      ],
      "execution_count": 21,
      "metadata": {
        "jupyter": {
          "source_hidden": false,
          "outputs_hidden": false
        },
        "nteract": {
          "transient": {
            "deleting": false
          }
        },
        "collapsed": false
      }
    },
    {
      "cell_type": "code",
      "source": [
        "dfAttendance = dfAttendance.withColumnRenamed('avg(AttendanceCode_value)', 'AverageAttendance')\r\n",
        "dfInsights = dfInsights.join(dfAttendance, dfInsights.StudentId_pseudonym == dfAttendance.student_id_pseudonym, how='inner')\r\n",
        "dfInsights = dfInsights.select('StudentId_pseudonym', 'Surname', 'GivenName', 'MiddleName', 'PersonRole', 'StudentGrade', 'AverageAttendance', 'OrganizationId', 'OrganizationName')\r\n",
        "display(dfInsights.limit(10))"
      ],
      "outputs": [
        {
          "output_type": "display_data",
          "data": {
            "application/vnd.livy.statement-meta+json": {
              "spark_pool": "sparkMed",
              "session_id": "57",
              "statement_id": 23,
              "state": "finished",
              "livy_statement_state": "available",
              "queued_time": "2022-09-29T17:43:22.2111988Z",
              "session_start_time": null,
              "execution_start_time": "2022-09-29T17:43:22.3906103Z",
              "execution_finish_time": "2022-09-29T17:43:33.0813796Z",
              "spark_jobs": null
            },
            "text/plain": "StatementMeta(sparkMed, 57, 23, Finished, Available)"
          },
          "metadata": {}
        },
        {
          "output_type": "display_data",
          "data": {
            "application/vnd.synapse.widget-view+json": {
              "widget_id": "5b2ff650-214e-43c4-add7-22376e4b3b8f",
              "widget_type": "Synapse.DataFrame"
            },
            "text/plain": "SynapseWidget(Synapse.DataFrame, 5b2ff650-214e-43c4-add7-22376e4b3b8f)"
          },
          "metadata": {}
        }
      ],
      "execution_count": 22,
      "metadata": {
        "jupyter": {
          "source_hidden": false,
          "outputs_hidden": false
        },
        "nteract": {
          "transient": {
            "deleting": false
          }
        },
        "collapsed": false
      }
    },
    {
      "cell_type": "markdown",
      "source": [
        "### Write SIS Student_pseudo table to Stage 3p"
      ],
      "metadata": {
        "nteract": {
          "transient": {
            "deleting": false
          }
        }
      }
    },
    {
      "cell_type": "code",
      "source": [
        "dfInsights.coalesce(1).write.format('delta').mode('overwrite').option('header', True).save(oea.stage3p + '/hybrid_engagement/Student_pseudo')"
      ],
      "outputs": [
        {
          "output_type": "display_data",
          "data": {
            "application/vnd.livy.statement-meta+json": {
              "spark_pool": "sparkMed",
              "session_id": "55",
              "statement_id": 20,
              "state": "finished",
              "livy_statement_state": "available",
              "queued_time": "2022-09-28T17:30:32.1698383Z",
              "session_start_time": null,
              "execution_start_time": "2022-09-28T17:30:32.2758888Z",
              "execution_finish_time": "2022-09-28T17:30:37.6050893Z",
              "spark_jobs": null
            },
            "text/plain": "StatementMeta(sparkMed, 55, 20, Finished, Available)"
          },
          "metadata": {}
        }
      ],
      "execution_count": 19,
      "metadata": {
        "jupyter": {
          "source_hidden": false,
          "outputs_hidden": false
        },
        "nteract": {
          "transient": {
            "deleting": false
          }
        }
      }
    },
    {
      "cell_type": "markdown",
      "source": [
        "## Data Aggregations\r\n",
        "\r\n",
        "### SIS Student_lookup table creation"
      ],
      "metadata": {
        "nteract": {
          "transient": {
            "deleting": false
          }
        }
      }
    },
    {
      "cell_type": "code",
      "source": [
        "dfInsights_person_np = oea.load('M365', 'Person_lookup', stage=oea.stage2np)\r\n",
        "dfInsights_aaduser_np = oea.load('M365', 'AadUser_lookup', stage=oea.stage2np)\r\n",
        "dfInsights_np = dfInsights_person_np.join(dfInsights_aaduserpersonmapping, dfInsights_person_np.Id_pseudonym == dfInsights_aaduserpersonmapping.PersonId_pseudonym, how='inner')\r\n",
        "dfInsights_np = dfInsights_np.withColumnRenamed('Id', 'PersonId').withColumnRenamed('ObjectId_pseudonym', 'StudentId_pseudonym')\r\n",
        "dfInsights_np = dfInsights_np.select('PersonId_pseudonym', 'PersonId', 'StudentId_pseudonym', 'Surname', 'GivenName', 'MiddleName')\r\n",
        "display(dfInsights_np.limit(10))"
      ],
      "outputs": [
        {
          "output_type": "display_data",
          "data": {
            "application/vnd.livy.statement-meta+json": {
              "spark_pool": "spark3p1sm",
              "session_id": "64",
              "statement_id": 27,
              "state": "finished",
              "livy_statement_state": "available",
              "queued_time": "2022-09-28T20:32:00.508561Z",
              "session_start_time": null,
              "execution_start_time": "2022-09-28T20:32:00.6065259Z",
              "execution_finish_time": "2022-09-28T20:32:03.4194495Z",
              "spark_jobs": null
            },
            "text/plain": "StatementMeta(spark3p1sm, 64, 27, Finished, Available)"
          },
          "metadata": {}
        },
        {
          "output_type": "display_data",
          "data": {
            "application/vnd.synapse.widget-view+json": {
              "widget_id": "a482389c-8164-444a-b4c1-639461999a21",
              "widget_type": "Synapse.DataFrame"
            },
            "text/plain": "SynapseWidget(Synapse.DataFrame, a482389c-8164-444a-b4c1-639461999a21)"
          },
          "metadata": {}
        }
      ],
      "execution_count": 26,
      "metadata": {
        "jupyter": {
          "source_hidden": false,
          "outputs_hidden": false
        },
        "nteract": {
          "transient": {
            "deleting": false
          }
        },
        "collapsed": false
      }
    },
    {
      "cell_type": "code",
      "source": [
        "dfInsights_aaduser_np = dfInsights_aaduser_np.withColumnRenamed('Surname', 'Surname2').withColumnRenamed('GivenName', 'GivenName2')\r\n",
        "dfInsights_np = dfInsights_np.join(dfInsights_aaduser_np, dfInsights_np.StudentId_pseudonym == dfInsights_aaduser_np.ObjectId_pseudonym, how='inner')\r\n",
        "dfInsights_np = dfInsights_np.withColumnRenamed('ObjectId', 'StudentId')\r\n",
        "dfInsights_np = dfInsights_np.select('PersonId_pseudonym', 'PersonId', 'StudentId_pseudonym', 'StudentId', 'Surname', 'GivenName', 'MiddleName')\r\n",
        "display(dfInsights_np.limit(10))"
      ],
      "outputs": [
        {
          "output_type": "display_data",
          "data": {
            "application/vnd.livy.statement-meta+json": {
              "spark_pool": "spark3p1sm",
              "session_id": "64",
              "statement_id": 28,
              "state": "finished",
              "livy_statement_state": "available",
              "queued_time": "2022-09-28T20:32:05.7632173Z",
              "session_start_time": null,
              "execution_start_time": "2022-09-28T20:32:05.8953185Z",
              "execution_finish_time": "2022-09-28T20:32:09.7862387Z",
              "spark_jobs": null
            },
            "text/plain": "StatementMeta(spark3p1sm, 64, 28, Finished, Available)"
          },
          "metadata": {}
        },
        {
          "output_type": "display_data",
          "data": {
            "application/vnd.synapse.widget-view+json": {
              "widget_id": "f0701c06-2934-4924-b8c7-ef618e46a05e",
              "widget_type": "Synapse.DataFrame"
            },
            "text/plain": "SynapseWidget(Synapse.DataFrame, f0701c06-2934-4924-b8c7-ef618e46a05e)"
          },
          "metadata": {}
        }
      ],
      "execution_count": 27,
      "metadata": {
        "jupyter": {
          "source_hidden": false,
          "outputs_hidden": false
        },
        "nteract": {
          "transient": {
            "deleting": false
          }
        },
        "collapsed": false
      }
    },
    {
      "cell_type": "markdown",
      "source": [
        "### Write SIS Student_lookup table to Stage 3np"
      ],
      "metadata": {
        "nteract": {
          "transient": {
            "deleting": false
          }
        }
      }
    },
    {
      "cell_type": "code",
      "source": [
        "dfInsights_np.coalesce(1).write.format('delta').mode('overwrite').option('header', True).save(oea.stage3np + '/hybrid_engagement/Student_lookup')"
      ],
      "outputs": [
        {
          "output_type": "display_data",
          "data": {
            "application/vnd.livy.statement-meta+json": {
              "spark_pool": "sparkMed",
              "session_id": "55",
              "statement_id": 22,
              "state": "finished",
              "livy_statement_state": "available",
              "queued_time": "2022-09-28T17:45:06.7396244Z",
              "session_start_time": null,
              "execution_start_time": "2022-09-28T17:45:06.8452886Z",
              "execution_finish_time": "2022-09-28T17:45:09.5845882Z",
              "spark_jobs": null
            },
            "text/plain": "StatementMeta(sparkMed, 55, 22, Finished, Available)"
          },
          "metadata": {}
        }
      ],
      "execution_count": 21,
      "metadata": {
        "jupyter": {
          "source_hidden": false,
          "outputs_hidden": false
        },
        "nteract": {
          "transient": {
            "deleting": false
          }
        }
      }
    }
  ],
  "metadata": {
    "kernelspec": {
      "name": "synapse_pyspark",
      "language": "Python",
      "display_name": "Synapse PySpark"
    },
    "language_info": {
      "name": "python"
    },
    "kernel_info": {
      "name": "synapse_pyspark"
    },
    "description": null,
    "save_output": true,
    "synapse_widget": {
      "version": "0.1",
      "state": {
        "a482389c-8164-444a-b4c1-639461999a21": {
          "type": "Synapse.DataFrame",
          "sync_state": {
            "table": {
              "rows": [
                {
                  "0": "c7a6a548514696f2cabebd3d38534b8361c8716633295a4c8e71d98199ef2e71",
                  "1": "b2baefad-4c1d-463e-b541-cc5f2f204f52",
                  "2": "e919d1612b18c5f6505e04e8843fe9774198c0de4c84c0ef17c033b45cfe35fd",
                  "3": "Benefield",
                  "4": "Carole",
                  "5": "M"
                },
                {
                  "0": "6bc9a18a3dcff4010d78e8707fbfccebd6ea80ca7c7d8abcf47c194ff36ca9a1",
                  "1": "efc3ba3e-3e18-4364-8d5f-6715f3884833",
                  "2": "5931763df30af35c6b83421ac630b8b647cf5d5405f8b65b7e49a4b9300e0ea1",
                  "3": "Cronan",
                  "4": "Elouise",
                  "5": "A"
                },
                {
                  "0": "f9aa4222728f10dc0bfb02296a6850123722bd8f3da62dd09019499b7f440a71",
                  "1": "f59cc0b4-c654-4fa1-8911-78e19f85ca3e",
                  "2": "bbee57a9314742a12e4490f868f7484e6ae24a4c07c998b681fdde2938d84a09",
                  "3": "Johnson",
                  "4": "Alesia",
                  "5": "C"
                },
                {
                  "0": "741fd0392de15ce5de201e071c6611ed64c1f01a81f9043ec40f03cf6d71be52",
                  "1": "03e200d9-8ceb-4ee4-b13b-a643acf63a5c",
                  "2": "2efbbf9e4cae48d02d440582f196b91c2b76bf24d58387d76ce5c453fe088fa8",
                  "3": "Warner",
                  "4": "Ralph",
                  "5": "J"
                },
                {
                  "0": "899e96422ff81809b165d9e19296d581f67ae2965e7146cf1f1d5ab9908f5838",
                  "1": "c189e3e5-4730-4b4e-ade2-d728cc6b86f3",
                  "2": "62198b3154089acf0d1464dacbf7d35ee5f62822a27c066bfc26faa85cef7ee8",
                  "3": "Patrick",
                  "4": "Jenny",
                  "5": "D"
                },
                {
                  "0": "44f7d423aa31c365e5190cff760ad7e0ba8620995165a6630f346572edd751b1",
                  "1": "b8c3f862-22df-47b5-bc9b-e69e189435e4",
                  "2": "c49a8fa1a89ff16782c0e3995c0b0defce637d7d52d34762697a65388edc5ece",
                  "3": "Lopez",
                  "4": "Marianne",
                  "5": "J"
                },
                {
                  "0": "8d2a392ee2699bc6326e40a6a52bcd3ba6927ae0cc0281f0c185630046b87cfa",
                  "1": "2a4488c6-9916-439e-917d-8b09544220f4",
                  "2": "0015dd1f2156b743b6e8ff6e6881ff9119ef58e71ddc8e85b11d755b3d654d4a",
                  "3": "Riley",
                  "4": "Mildred",
                  "5": "A"
                },
                {
                  "0": "5ccfb0af1f77a150a1b995a72e381e6a4689c58c02997a3b6d249f65b3456d78",
                  "1": "1244b8a0-f530-485a-acd2-e355e053682c",
                  "2": "e0eb9b73bc09c44a9f557aebb6a6bbff1a8af3a3a5dc0301e504d41912a7a086",
                  "3": "Lindsley",
                  "4": "David",
                  "5": "K"
                },
                {
                  "0": "95bd66450dc58586771f997beef17a160305063eaa0966ddeb6d71f4d990ca5d",
                  "1": "acaa8a47-2d91-4047-bb48-1fa4e678f7e9",
                  "2": "0b5385e59225f13056ff38dad3d9e2f0e1bc27cd276df0b5fdafde0315fe8242",
                  "3": "Petrella",
                  "4": "George",
                  "5": "P"
                },
                {
                  "0": "b28d4edcdbe1a84095054be594815ee6333be526fc51e53eec6bdf520e5a148b",
                  "1": "8790fe38-8994-4b34-a165-814e5ed121be",
                  "2": "66ed9a086452ec90922d8427c18cf0845302955f85fd11edbc84cc7fceb8bf8e",
                  "3": "Rice",
                  "4": "Joshua",
                  "5": "R"
                }
              ],
              "schema": [
                {
                  "key": "0",
                  "name": "PersonId_pseudonym",
                  "type": "string"
                },
                {
                  "key": "1",
                  "name": "PersonId",
                  "type": "string"
                },
                {
                  "key": "2",
                  "name": "StudentId_pseudonym",
                  "type": "string"
                },
                {
                  "key": "3",
                  "name": "Surname",
                  "type": "string"
                },
                {
                  "key": "4",
                  "name": "GivenName",
                  "type": "string"
                },
                {
                  "key": "5",
                  "name": "MiddleName",
                  "type": "string"
                }
              ],
              "truncated": false
            },
            "isSummary": false,
            "language": "scala"
          },
          "persist_state": {
            "view": {
              "type": "details",
              "tableOptions": {},
              "chartOptions": {
                "chartType": "bar",
                "aggregationType": "count",
                "categoryFieldKeys": [
                  "0"
                ],
                "seriesFieldKeys": [
                  "0"
                ],
                "isStacked": false
              }
            }
          }
        },
        "f0701c06-2934-4924-b8c7-ef618e46a05e": {
          "type": "Synapse.DataFrame",
          "sync_state": {
            "table": {
              "rows": [
                {
                  "0": "c7a6a548514696f2cabebd3d38534b8361c8716633295a4c8e71d98199ef2e71",
                  "1": "b2baefad-4c1d-463e-b541-cc5f2f204f52",
                  "2": "e919d1612b18c5f6505e04e8843fe9774198c0de4c84c0ef17c033b45cfe35fd",
                  "3": "f269ed04def44e788b92acb93e96ef58",
                  "4": "Benefield",
                  "5": "Carole",
                  "6": "M"
                },
                {
                  "0": "6bc9a18a3dcff4010d78e8707fbfccebd6ea80ca7c7d8abcf47c194ff36ca9a1",
                  "1": "efc3ba3e-3e18-4364-8d5f-6715f3884833",
                  "2": "5931763df30af35c6b83421ac630b8b647cf5d5405f8b65b7e49a4b9300e0ea1",
                  "3": "1d98ac4839844a70b226054195c9d5c7",
                  "4": "Cronan",
                  "5": "Elouise",
                  "6": "A"
                },
                {
                  "0": "f9aa4222728f10dc0bfb02296a6850123722bd8f3da62dd09019499b7f440a71",
                  "1": "f59cc0b4-c654-4fa1-8911-78e19f85ca3e",
                  "2": "bbee57a9314742a12e4490f868f7484e6ae24a4c07c998b681fdde2938d84a09",
                  "3": "29ab930fd6674114a05743ed2dcb32fa",
                  "4": "Johnson",
                  "5": "Alesia",
                  "6": "C"
                },
                {
                  "0": "741fd0392de15ce5de201e071c6611ed64c1f01a81f9043ec40f03cf6d71be52",
                  "1": "03e200d9-8ceb-4ee4-b13b-a643acf63a5c",
                  "2": "2efbbf9e4cae48d02d440582f196b91c2b76bf24d58387d76ce5c453fe088fa8",
                  "3": "27bad028458a48d0a27a129f3d1edee8",
                  "4": "Warner",
                  "5": "Ralph",
                  "6": "J"
                },
                {
                  "0": "899e96422ff81809b165d9e19296d581f67ae2965e7146cf1f1d5ab9908f5838",
                  "1": "c189e3e5-4730-4b4e-ade2-d728cc6b86f3",
                  "2": "62198b3154089acf0d1464dacbf7d35ee5f62822a27c066bfc26faa85cef7ee8",
                  "3": "90267e7054e945a49418868bbccf0571",
                  "4": "Patrick",
                  "5": "Jenny",
                  "6": "D"
                },
                {
                  "0": "44f7d423aa31c365e5190cff760ad7e0ba8620995165a6630f346572edd751b1",
                  "1": "b8c3f862-22df-47b5-bc9b-e69e189435e4",
                  "2": "c49a8fa1a89ff16782c0e3995c0b0defce637d7d52d34762697a65388edc5ece",
                  "3": "c224bda7df3046a5803f915cb7e3fb58",
                  "4": "Lopez",
                  "5": "Marianne",
                  "6": "J"
                },
                {
                  "0": "8d2a392ee2699bc6326e40a6a52bcd3ba6927ae0cc0281f0c185630046b87cfa",
                  "1": "2a4488c6-9916-439e-917d-8b09544220f4",
                  "2": "0015dd1f2156b743b6e8ff6e6881ff9119ef58e71ddc8e85b11d755b3d654d4a",
                  "3": "e3f68873c16f452bb354f7c0618152c1",
                  "4": "Riley",
                  "5": "Mildred",
                  "6": "A"
                },
                {
                  "0": "5ccfb0af1f77a150a1b995a72e381e6a4689c58c02997a3b6d249f65b3456d78",
                  "1": "1244b8a0-f530-485a-acd2-e355e053682c",
                  "2": "e0eb9b73bc09c44a9f557aebb6a6bbff1a8af3a3a5dc0301e504d41912a7a086",
                  "3": "63307e8727d8447aaf7ff4086598e01f",
                  "4": "Lindsley",
                  "5": "David",
                  "6": "K"
                },
                {
                  "0": "95bd66450dc58586771f997beef17a160305063eaa0966ddeb6d71f4d990ca5d",
                  "1": "acaa8a47-2d91-4047-bb48-1fa4e678f7e9",
                  "2": "0b5385e59225f13056ff38dad3d9e2f0e1bc27cd276df0b5fdafde0315fe8242",
                  "3": "2b602e2aea4547b980bc35bf28d17149",
                  "4": "Petrella",
                  "5": "George",
                  "6": "P"
                },
                {
                  "0": "b28d4edcdbe1a84095054be594815ee6333be526fc51e53eec6bdf520e5a148b",
                  "1": "8790fe38-8994-4b34-a165-814e5ed121be",
                  "2": "66ed9a086452ec90922d8427c18cf0845302955f85fd11edbc84cc7fceb8bf8e",
                  "3": "aafe20f94f1349999ab6267ca9beb1fd",
                  "4": "Rice",
                  "5": "Joshua",
                  "6": "R"
                }
              ],
              "schema": [
                {
                  "key": "0",
                  "name": "PersonId_pseudonym",
                  "type": "string"
                },
                {
                  "key": "1",
                  "name": "PersonId",
                  "type": "string"
                },
                {
                  "key": "2",
                  "name": "StudentId_pseudonym",
                  "type": "string"
                },
                {
                  "key": "3",
                  "name": "StudentId",
                  "type": "string"
                },
                {
                  "key": "4",
                  "name": "Surname",
                  "type": "string"
                },
                {
                  "key": "5",
                  "name": "GivenName",
                  "type": "string"
                },
                {
                  "key": "6",
                  "name": "MiddleName",
                  "type": "string"
                }
              ],
              "truncated": false
            },
            "isSummary": false,
            "language": "scala"
          },
          "persist_state": {
            "view": {
              "type": "details",
              "tableOptions": {},
              "chartOptions": {
                "chartType": "bar",
                "aggregationType": "count",
                "categoryFieldKeys": [
                  "0"
                ],
                "seriesFieldKeys": [
                  "0"
                ],
                "isStacked": false
              }
            }
          }
        },
        "18bcdf1c-3ec1-4f39-b3d4-6aae399b48f1": {
          "type": "Synapse.DataFrame",
          "sync_state": {
            "table": {
              "rows": [
                {
                  "0": "c7a6a548514696f2cabebd3d38534b8361c8716633295a4c8e71d98199ef2e71",
                  "1": "*",
                  "2": "*",
                  "3": "*",
                  "4": "43F4D867-D4B7-4EAC-886C-9BD3B3BB96A7",
                  "5": "3C1EF2CC-7EC5-45BC-A63F-BE50DD1EA8F0",
                  "6": "ab2a9665-ce87-4120-a8b5-edd392875e42"
                },
                {
                  "0": "6bc9a18a3dcff4010d78e8707fbfccebd6ea80ca7c7d8abcf47c194ff36ca9a1",
                  "1": "*",
                  "2": "*",
                  "3": "*",
                  "4": "43F4D867-D4B7-4EAC-886C-9BD3B3BB96A7",
                  "5": "865D3FCF-9711-4D63-8621-00715E148B70",
                  "6": "ab2a9665-ce87-4120-a8b5-edd392875e42"
                },
                {
                  "0": "f9aa4222728f10dc0bfb02296a6850123722bd8f3da62dd09019499b7f440a71",
                  "1": "*",
                  "2": "*",
                  "3": "*",
                  "4": "43F4D867-D4B7-4EAC-886C-9BD3B3BB96A7",
                  "5": "54BBE54F-5557-4890-8752-70A0CC452450",
                  "6": "ab2a9665-ce87-4120-a8b5-edd392875e42"
                },
                {
                  "0": "741fd0392de15ce5de201e071c6611ed64c1f01a81f9043ec40f03cf6d71be52",
                  "1": "*",
                  "2": "*",
                  "3": "*",
                  "4": "43F4D867-D4B7-4EAC-886C-9BD3B3BB96A7",
                  "5": "865D3FCF-9711-4D63-8621-00715E148B70",
                  "6": "ab2a9665-ce87-4120-a8b5-edd392875e42"
                },
                {
                  "0": "899e96422ff81809b165d9e19296d581f67ae2965e7146cf1f1d5ab9908f5838",
                  "1": "*",
                  "2": "*",
                  "3": "*",
                  "4": "43F4D867-D4B7-4EAC-886C-9BD3B3BB96A7",
                  "5": "865D3FCF-9711-4D63-8621-00715E148B70",
                  "6": "ab2a9665-ce87-4120-a8b5-edd392875e42"
                },
                {
                  "0": "44f7d423aa31c365e5190cff760ad7e0ba8620995165a6630f346572edd751b1",
                  "1": "*",
                  "2": "*",
                  "3": "*",
                  "4": "43F4D867-D4B7-4EAC-886C-9BD3B3BB96A7",
                  "5": "865D3FCF-9711-4D63-8621-00715E148B70",
                  "6": "ab2a9665-ce87-4120-a8b5-edd392875e42"
                },
                {
                  "0": "8d2a392ee2699bc6326e40a6a52bcd3ba6927ae0cc0281f0c185630046b87cfa",
                  "1": "*",
                  "2": "*",
                  "3": "*",
                  "4": "43F4D867-D4B7-4EAC-886C-9BD3B3BB96A7",
                  "5": "3C1EF2CC-7EC5-45BC-A63F-BE50DD1EA8F0",
                  "6": "ab2a9665-ce87-4120-a8b5-edd392875e42"
                },
                {
                  "0": "5ccfb0af1f77a150a1b995a72e381e6a4689c58c02997a3b6d249f65b3456d78",
                  "1": "*",
                  "2": "*",
                  "3": "*",
                  "4": "43F4D867-D4B7-4EAC-886C-9BD3B3BB96A7",
                  "5": "3C1EF2CC-7EC5-45BC-A63F-BE50DD1EA8F0",
                  "6": "ab2a9665-ce87-4120-a8b5-edd392875e42"
                },
                {
                  "0": "95bd66450dc58586771f997beef17a160305063eaa0966ddeb6d71f4d990ca5d",
                  "1": "*",
                  "2": "*",
                  "3": "*",
                  "4": "43F4D867-D4B7-4EAC-886C-9BD3B3BB96A7",
                  "5": "9E6944BB-5AF0-4D2D-B816-07AB98871DB4",
                  "6": "ab2a9665-ce87-4120-a8b5-edd392875e42"
                },
                {
                  "0": "b28d4edcdbe1a84095054be594815ee6333be526fc51e53eec6bdf520e5a148b",
                  "1": "*",
                  "2": "*",
                  "3": "*",
                  "4": "43F4D867-D4B7-4EAC-886C-9BD3B3BB96A7",
                  "5": "9E6944BB-5AF0-4D2D-B816-07AB98871DB4",
                  "6": "ab2a9665-ce87-4120-a8b5-edd392875e42"
                }
              ],
              "schema": [
                {
                  "key": "0",
                  "name": "PersonId_pseudonym",
                  "type": "string"
                },
                {
                  "key": "1",
                  "name": "Surname",
                  "type": "string"
                },
                {
                  "key": "2",
                  "name": "GivenName",
                  "type": "string"
                },
                {
                  "key": "3",
                  "name": "MiddleName",
                  "type": "string"
                },
                {
                  "key": "4",
                  "name": "RefRoleId",
                  "type": "string"
                },
                {
                  "key": "5",
                  "name": "RefGradeLevelId",
                  "type": "string"
                },
                {
                  "key": "6",
                  "name": "OrganizationId",
                  "type": "string"
                }
              ],
              "truncated": false
            },
            "isSummary": false,
            "language": "scala"
          },
          "persist_state": {
            "view": {
              "type": "details",
              "tableOptions": {},
              "chartOptions": {
                "chartType": "bar",
                "aggregationType": "count",
                "categoryFieldKeys": [
                  "0"
                ],
                "seriesFieldKeys": [
                  "0"
                ],
                "isStacked": false
              }
            }
          }
        },
        "58cb8c18-6624-4d45-9c71-c6d67a887f80": {
          "type": "Synapse.DataFrame",
          "sync_state": {
            "table": {
              "rows": [
                {
                  "0": "c7a6a548514696f2cabebd3d38534b8361c8716633295a4c8e71d98199ef2e71",
                  "1": "*",
                  "2": "*",
                  "3": "*",
                  "4": "43F4D867-D4B7-4EAC-886C-9BD3B3BB96A7",
                  "5": "3C1EF2CC-7EC5-45BC-A63F-BE50DD1EA8F0",
                  "6": "ab2a9665-ce87-4120-a8b5-edd392875e42",
                  "7": "Mitchell High"
                },
                {
                  "0": "6bc9a18a3dcff4010d78e8707fbfccebd6ea80ca7c7d8abcf47c194ff36ca9a1",
                  "1": "*",
                  "2": "*",
                  "3": "*",
                  "4": "43F4D867-D4B7-4EAC-886C-9BD3B3BB96A7",
                  "5": "865D3FCF-9711-4D63-8621-00715E148B70",
                  "6": "ab2a9665-ce87-4120-a8b5-edd392875e42",
                  "7": "Mitchell High"
                },
                {
                  "0": "f9aa4222728f10dc0bfb02296a6850123722bd8f3da62dd09019499b7f440a71",
                  "1": "*",
                  "2": "*",
                  "3": "*",
                  "4": "43F4D867-D4B7-4EAC-886C-9BD3B3BB96A7",
                  "5": "54BBE54F-5557-4890-8752-70A0CC452450",
                  "6": "ab2a9665-ce87-4120-a8b5-edd392875e42",
                  "7": "Mitchell High"
                },
                {
                  "0": "741fd0392de15ce5de201e071c6611ed64c1f01a81f9043ec40f03cf6d71be52",
                  "1": "*",
                  "2": "*",
                  "3": "*",
                  "4": "43F4D867-D4B7-4EAC-886C-9BD3B3BB96A7",
                  "5": "865D3FCF-9711-4D63-8621-00715E148B70",
                  "6": "ab2a9665-ce87-4120-a8b5-edd392875e42",
                  "7": "Mitchell High"
                },
                {
                  "0": "899e96422ff81809b165d9e19296d581f67ae2965e7146cf1f1d5ab9908f5838",
                  "1": "*",
                  "2": "*",
                  "3": "*",
                  "4": "43F4D867-D4B7-4EAC-886C-9BD3B3BB96A7",
                  "5": "865D3FCF-9711-4D63-8621-00715E148B70",
                  "6": "ab2a9665-ce87-4120-a8b5-edd392875e42",
                  "7": "Mitchell High"
                },
                {
                  "0": "44f7d423aa31c365e5190cff760ad7e0ba8620995165a6630f346572edd751b1",
                  "1": "*",
                  "2": "*",
                  "3": "*",
                  "4": "43F4D867-D4B7-4EAC-886C-9BD3B3BB96A7",
                  "5": "865D3FCF-9711-4D63-8621-00715E148B70",
                  "6": "ab2a9665-ce87-4120-a8b5-edd392875e42",
                  "7": "Mitchell High"
                },
                {
                  "0": "8d2a392ee2699bc6326e40a6a52bcd3ba6927ae0cc0281f0c185630046b87cfa",
                  "1": "*",
                  "2": "*",
                  "3": "*",
                  "4": "43F4D867-D4B7-4EAC-886C-9BD3B3BB96A7",
                  "5": "3C1EF2CC-7EC5-45BC-A63F-BE50DD1EA8F0",
                  "6": "ab2a9665-ce87-4120-a8b5-edd392875e42",
                  "7": "Mitchell High"
                },
                {
                  "0": "5ccfb0af1f77a150a1b995a72e381e6a4689c58c02997a3b6d249f65b3456d78",
                  "1": "*",
                  "2": "*",
                  "3": "*",
                  "4": "43F4D867-D4B7-4EAC-886C-9BD3B3BB96A7",
                  "5": "3C1EF2CC-7EC5-45BC-A63F-BE50DD1EA8F0",
                  "6": "ab2a9665-ce87-4120-a8b5-edd392875e42",
                  "7": "Mitchell High"
                },
                {
                  "0": "95bd66450dc58586771f997beef17a160305063eaa0966ddeb6d71f4d990ca5d",
                  "1": "*",
                  "2": "*",
                  "3": "*",
                  "4": "43F4D867-D4B7-4EAC-886C-9BD3B3BB96A7",
                  "5": "9E6944BB-5AF0-4D2D-B816-07AB98871DB4",
                  "6": "ab2a9665-ce87-4120-a8b5-edd392875e42",
                  "7": "Mitchell High"
                },
                {
                  "0": "b28d4edcdbe1a84095054be594815ee6333be526fc51e53eec6bdf520e5a148b",
                  "1": "*",
                  "2": "*",
                  "3": "*",
                  "4": "43F4D867-D4B7-4EAC-886C-9BD3B3BB96A7",
                  "5": "9E6944BB-5AF0-4D2D-B816-07AB98871DB4",
                  "6": "ab2a9665-ce87-4120-a8b5-edd392875e42",
                  "7": "Mitchell High"
                }
              ],
              "schema": [
                {
                  "key": "0",
                  "name": "PersonId_pseudonym",
                  "type": "string"
                },
                {
                  "key": "1",
                  "name": "Surname",
                  "type": "string"
                },
                {
                  "key": "2",
                  "name": "GivenName",
                  "type": "string"
                },
                {
                  "key": "3",
                  "name": "MiddleName",
                  "type": "string"
                },
                {
                  "key": "4",
                  "name": "RefRoleId",
                  "type": "string"
                },
                {
                  "key": "5",
                  "name": "RefGradeLevelId",
                  "type": "string"
                },
                {
                  "key": "6",
                  "name": "OrganizationId",
                  "type": "string"
                },
                {
                  "key": "7",
                  "name": "OrganizationName",
                  "type": "string"
                }
              ],
              "truncated": false
            },
            "isSummary": false,
            "language": "scala"
          },
          "persist_state": {
            "view": {
              "type": "details",
              "tableOptions": {},
              "chartOptions": {
                "chartType": "bar",
                "aggregationType": "count",
                "categoryFieldKeys": [
                  "0"
                ],
                "seriesFieldKeys": [
                  "0"
                ],
                "isStacked": false
              }
            }
          }
        },
        "7569d290-41b1-4eea-8ab4-99059728d559": {
          "type": "Synapse.DataFrame",
          "sync_state": {
            "table": {
              "rows": [
                {
                  "0": "c7a6a548514696f2cabebd3d38534b8361c8716633295a4c8e71d98199ef2e71",
                  "1": "*",
                  "2": "*",
                  "3": "*",
                  "4": "Student",
                  "5": "3C1EF2CC-7EC5-45BC-A63F-BE50DD1EA8F0",
                  "6": "ab2a9665-ce87-4120-a8b5-edd392875e42",
                  "7": "Mitchell High"
                },
                {
                  "0": "6bc9a18a3dcff4010d78e8707fbfccebd6ea80ca7c7d8abcf47c194ff36ca9a1",
                  "1": "*",
                  "2": "*",
                  "3": "*",
                  "4": "Student",
                  "5": "865D3FCF-9711-4D63-8621-00715E148B70",
                  "6": "ab2a9665-ce87-4120-a8b5-edd392875e42",
                  "7": "Mitchell High"
                },
                {
                  "0": "f9aa4222728f10dc0bfb02296a6850123722bd8f3da62dd09019499b7f440a71",
                  "1": "*",
                  "2": "*",
                  "3": "*",
                  "4": "Student",
                  "5": "54BBE54F-5557-4890-8752-70A0CC452450",
                  "6": "ab2a9665-ce87-4120-a8b5-edd392875e42",
                  "7": "Mitchell High"
                },
                {
                  "0": "741fd0392de15ce5de201e071c6611ed64c1f01a81f9043ec40f03cf6d71be52",
                  "1": "*",
                  "2": "*",
                  "3": "*",
                  "4": "Student",
                  "5": "865D3FCF-9711-4D63-8621-00715E148B70",
                  "6": "ab2a9665-ce87-4120-a8b5-edd392875e42",
                  "7": "Mitchell High"
                },
                {
                  "0": "899e96422ff81809b165d9e19296d581f67ae2965e7146cf1f1d5ab9908f5838",
                  "1": "*",
                  "2": "*",
                  "3": "*",
                  "4": "Student",
                  "5": "865D3FCF-9711-4D63-8621-00715E148B70",
                  "6": "ab2a9665-ce87-4120-a8b5-edd392875e42",
                  "7": "Mitchell High"
                },
                {
                  "0": "44f7d423aa31c365e5190cff760ad7e0ba8620995165a6630f346572edd751b1",
                  "1": "*",
                  "2": "*",
                  "3": "*",
                  "4": "Student",
                  "5": "865D3FCF-9711-4D63-8621-00715E148B70",
                  "6": "ab2a9665-ce87-4120-a8b5-edd392875e42",
                  "7": "Mitchell High"
                },
                {
                  "0": "8d2a392ee2699bc6326e40a6a52bcd3ba6927ae0cc0281f0c185630046b87cfa",
                  "1": "*",
                  "2": "*",
                  "3": "*",
                  "4": "Student",
                  "5": "3C1EF2CC-7EC5-45BC-A63F-BE50DD1EA8F0",
                  "6": "ab2a9665-ce87-4120-a8b5-edd392875e42",
                  "7": "Mitchell High"
                },
                {
                  "0": "5ccfb0af1f77a150a1b995a72e381e6a4689c58c02997a3b6d249f65b3456d78",
                  "1": "*",
                  "2": "*",
                  "3": "*",
                  "4": "Student",
                  "5": "3C1EF2CC-7EC5-45BC-A63F-BE50DD1EA8F0",
                  "6": "ab2a9665-ce87-4120-a8b5-edd392875e42",
                  "7": "Mitchell High"
                },
                {
                  "0": "95bd66450dc58586771f997beef17a160305063eaa0966ddeb6d71f4d990ca5d",
                  "1": "*",
                  "2": "*",
                  "3": "*",
                  "4": "Student",
                  "5": "9E6944BB-5AF0-4D2D-B816-07AB98871DB4",
                  "6": "ab2a9665-ce87-4120-a8b5-edd392875e42",
                  "7": "Mitchell High"
                },
                {
                  "0": "b28d4edcdbe1a84095054be594815ee6333be526fc51e53eec6bdf520e5a148b",
                  "1": "*",
                  "2": "*",
                  "3": "*",
                  "4": "Student",
                  "5": "9E6944BB-5AF0-4D2D-B816-07AB98871DB4",
                  "6": "ab2a9665-ce87-4120-a8b5-edd392875e42",
                  "7": "Mitchell High"
                }
              ],
              "schema": [
                {
                  "key": "0",
                  "name": "PersonId_pseudonym",
                  "type": "string"
                },
                {
                  "key": "1",
                  "name": "Surname",
                  "type": "string"
                },
                {
                  "key": "2",
                  "name": "GivenName",
                  "type": "string"
                },
                {
                  "key": "3",
                  "name": "MiddleName",
                  "type": "string"
                },
                {
                  "key": "4",
                  "name": "PersonRole",
                  "type": "string"
                },
                {
                  "key": "5",
                  "name": "RefGradeLevelId",
                  "type": "string"
                },
                {
                  "key": "6",
                  "name": "OrganizationId",
                  "type": "string"
                },
                {
                  "key": "7",
                  "name": "OrganizationName",
                  "type": "string"
                }
              ],
              "truncated": false
            },
            "isSummary": false,
            "language": "scala"
          },
          "persist_state": {
            "view": {
              "type": "details",
              "tableOptions": {},
              "chartOptions": {
                "chartType": "bar",
                "aggregationType": "count",
                "categoryFieldKeys": [
                  "0"
                ],
                "seriesFieldKeys": [
                  "0"
                ],
                "isStacked": false
              }
            }
          }
        },
        "27f23c91-78ee-4fea-8948-211f34dafffe": {
          "type": "Synapse.DataFrame",
          "sync_state": {
            "table": {
              "rows": [
                {
                  "0": "c7a6a548514696f2cabebd3d38534b8361c8716633295a4c8e71d98199ef2e71",
                  "1": "*",
                  "2": "*",
                  "3": "*",
                  "4": "Student",
                  "5": "9",
                  "6": "ab2a9665-ce87-4120-a8b5-edd392875e42",
                  "7": "Mitchell High"
                },
                {
                  "0": "6bc9a18a3dcff4010d78e8707fbfccebd6ea80ca7c7d8abcf47c194ff36ca9a1",
                  "1": "*",
                  "2": "*",
                  "3": "*",
                  "4": "Student",
                  "5": "11",
                  "6": "ab2a9665-ce87-4120-a8b5-edd392875e42",
                  "7": "Mitchell High"
                },
                {
                  "0": "f9aa4222728f10dc0bfb02296a6850123722bd8f3da62dd09019499b7f440a71",
                  "1": "*",
                  "2": "*",
                  "3": "*",
                  "4": "Student",
                  "5": "10",
                  "6": "ab2a9665-ce87-4120-a8b5-edd392875e42",
                  "7": "Mitchell High"
                },
                {
                  "0": "741fd0392de15ce5de201e071c6611ed64c1f01a81f9043ec40f03cf6d71be52",
                  "1": "*",
                  "2": "*",
                  "3": "*",
                  "4": "Student",
                  "5": "11",
                  "6": "ab2a9665-ce87-4120-a8b5-edd392875e42",
                  "7": "Mitchell High"
                },
                {
                  "0": "899e96422ff81809b165d9e19296d581f67ae2965e7146cf1f1d5ab9908f5838",
                  "1": "*",
                  "2": "*",
                  "3": "*",
                  "4": "Student",
                  "5": "11",
                  "6": "ab2a9665-ce87-4120-a8b5-edd392875e42",
                  "7": "Mitchell High"
                },
                {
                  "0": "44f7d423aa31c365e5190cff760ad7e0ba8620995165a6630f346572edd751b1",
                  "1": "*",
                  "2": "*",
                  "3": "*",
                  "4": "Student",
                  "5": "11",
                  "6": "ab2a9665-ce87-4120-a8b5-edd392875e42",
                  "7": "Mitchell High"
                },
                {
                  "0": "8d2a392ee2699bc6326e40a6a52bcd3ba6927ae0cc0281f0c185630046b87cfa",
                  "1": "*",
                  "2": "*",
                  "3": "*",
                  "4": "Student",
                  "5": "9",
                  "6": "ab2a9665-ce87-4120-a8b5-edd392875e42",
                  "7": "Mitchell High"
                },
                {
                  "0": "5ccfb0af1f77a150a1b995a72e381e6a4689c58c02997a3b6d249f65b3456d78",
                  "1": "*",
                  "2": "*",
                  "3": "*",
                  "4": "Student",
                  "5": "9",
                  "6": "ab2a9665-ce87-4120-a8b5-edd392875e42",
                  "7": "Mitchell High"
                },
                {
                  "0": "95bd66450dc58586771f997beef17a160305063eaa0966ddeb6d71f4d990ca5d",
                  "1": "*",
                  "2": "*",
                  "3": "*",
                  "4": "Student",
                  "5": "12",
                  "6": "ab2a9665-ce87-4120-a8b5-edd392875e42",
                  "7": "Mitchell High"
                },
                {
                  "0": "b28d4edcdbe1a84095054be594815ee6333be526fc51e53eec6bdf520e5a148b",
                  "1": "*",
                  "2": "*",
                  "3": "*",
                  "4": "Student",
                  "5": "12",
                  "6": "ab2a9665-ce87-4120-a8b5-edd392875e42",
                  "7": "Mitchell High"
                }
              ],
              "schema": [
                {
                  "key": "0",
                  "name": "PersonId_pseudonym",
                  "type": "string"
                },
                {
                  "key": "1",
                  "name": "Surname",
                  "type": "string"
                },
                {
                  "key": "2",
                  "name": "GivenName",
                  "type": "string"
                },
                {
                  "key": "3",
                  "name": "MiddleName",
                  "type": "string"
                },
                {
                  "key": "4",
                  "name": "PersonRole",
                  "type": "string"
                },
                {
                  "key": "5",
                  "name": "StudentGrade",
                  "type": "string"
                },
                {
                  "key": "6",
                  "name": "OrganizationId",
                  "type": "string"
                },
                {
                  "key": "7",
                  "name": "OrganizationName",
                  "type": "string"
                }
              ],
              "truncated": false
            },
            "isSummary": false,
            "language": "scala"
          },
          "persist_state": {
            "view": {
              "type": "details",
              "tableOptions": {},
              "chartOptions": {
                "chartType": "bar",
                "aggregationType": "count",
                "categoryFieldKeys": [
                  "0"
                ],
                "seriesFieldKeys": [
                  "0"
                ],
                "isStacked": false
              }
            }
          }
        },
        "d6ed1bd5-02fe-4a5f-afcb-a8e804f2a9af": {
          "type": "Synapse.DataFrame",
          "sync_state": {
            "table": {
              "rows": [
                {
                  "0": "e919d1612b18c5f6505e04e8843fe9774198c0de4c84c0ef17c033b45cfe35fd",
                  "1": "*",
                  "2": "*",
                  "3": "*",
                  "4": "Student",
                  "5": "9",
                  "6": "ab2a9665-ce87-4120-a8b5-edd392875e42",
                  "7": "Mitchell High"
                },
                {
                  "0": "5931763df30af35c6b83421ac630b8b647cf5d5405f8b65b7e49a4b9300e0ea1",
                  "1": "*",
                  "2": "*",
                  "3": "*",
                  "4": "Student",
                  "5": "11",
                  "6": "ab2a9665-ce87-4120-a8b5-edd392875e42",
                  "7": "Mitchell High"
                },
                {
                  "0": "bbee57a9314742a12e4490f868f7484e6ae24a4c07c998b681fdde2938d84a09",
                  "1": "*",
                  "2": "*",
                  "3": "*",
                  "4": "Student",
                  "5": "10",
                  "6": "ab2a9665-ce87-4120-a8b5-edd392875e42",
                  "7": "Mitchell High"
                },
                {
                  "0": "2efbbf9e4cae48d02d440582f196b91c2b76bf24d58387d76ce5c453fe088fa8",
                  "1": "*",
                  "2": "*",
                  "3": "*",
                  "4": "Student",
                  "5": "11",
                  "6": "ab2a9665-ce87-4120-a8b5-edd392875e42",
                  "7": "Mitchell High"
                },
                {
                  "0": "62198b3154089acf0d1464dacbf7d35ee5f62822a27c066bfc26faa85cef7ee8",
                  "1": "*",
                  "2": "*",
                  "3": "*",
                  "4": "Student",
                  "5": "11",
                  "6": "ab2a9665-ce87-4120-a8b5-edd392875e42",
                  "7": "Mitchell High"
                },
                {
                  "0": "c49a8fa1a89ff16782c0e3995c0b0defce637d7d52d34762697a65388edc5ece",
                  "1": "*",
                  "2": "*",
                  "3": "*",
                  "4": "Student",
                  "5": "11",
                  "6": "ab2a9665-ce87-4120-a8b5-edd392875e42",
                  "7": "Mitchell High"
                },
                {
                  "0": "0015dd1f2156b743b6e8ff6e6881ff9119ef58e71ddc8e85b11d755b3d654d4a",
                  "1": "*",
                  "2": "*",
                  "3": "*",
                  "4": "Student",
                  "5": "9",
                  "6": "ab2a9665-ce87-4120-a8b5-edd392875e42",
                  "7": "Mitchell High"
                },
                {
                  "0": "e0eb9b73bc09c44a9f557aebb6a6bbff1a8af3a3a5dc0301e504d41912a7a086",
                  "1": "*",
                  "2": "*",
                  "3": "*",
                  "4": "Student",
                  "5": "9",
                  "6": "ab2a9665-ce87-4120-a8b5-edd392875e42",
                  "7": "Mitchell High"
                },
                {
                  "0": "0b5385e59225f13056ff38dad3d9e2f0e1bc27cd276df0b5fdafde0315fe8242",
                  "1": "*",
                  "2": "*",
                  "3": "*",
                  "4": "Student",
                  "5": "12",
                  "6": "ab2a9665-ce87-4120-a8b5-edd392875e42",
                  "7": "Mitchell High"
                },
                {
                  "0": "66ed9a086452ec90922d8427c18cf0845302955f85fd11edbc84cc7fceb8bf8e",
                  "1": "*",
                  "2": "*",
                  "3": "*",
                  "4": "Student",
                  "5": "12",
                  "6": "ab2a9665-ce87-4120-a8b5-edd392875e42",
                  "7": "Mitchell High"
                }
              ],
              "schema": [
                {
                  "key": "0",
                  "name": "StudentId_pseudonym",
                  "type": "string"
                },
                {
                  "key": "1",
                  "name": "Surname",
                  "type": "string"
                },
                {
                  "key": "2",
                  "name": "GivenName",
                  "type": "string"
                },
                {
                  "key": "3",
                  "name": "MiddleName",
                  "type": "string"
                },
                {
                  "key": "4",
                  "name": "PersonRole",
                  "type": "string"
                },
                {
                  "key": "5",
                  "name": "StudentGrade",
                  "type": "string"
                },
                {
                  "key": "6",
                  "name": "OrganizationId",
                  "type": "string"
                },
                {
                  "key": "7",
                  "name": "OrganizationName",
                  "type": "string"
                }
              ],
              "truncated": false
            },
            "isSummary": false,
            "language": "scala"
          },
          "persist_state": {
            "view": {
              "type": "details",
              "tableOptions": {},
              "chartOptions": {
                "chartType": "bar",
                "aggregationType": "count",
                "categoryFieldKeys": [
                  "0"
                ],
                "seriesFieldKeys": [
                  "0"
                ],
                "isStacked": false
              }
            }
          }
        },
        "0ab3acef-3f52-4ea0-8881-c43b3892274c": {
          "type": "Synapse.DataFrame",
          "sync_state": {
            "table": {
              "rows": [
                {
                  "0": "5e9624565282dcbe2fc80d0319c235900ac9f5a1fc326987c8a5d4f7710c6cbd",
                  "1": "0.85"
                },
                {
                  "0": "2b796c841c0ce64b92c4c91d0e79747d4e7ff0e133ea73daac83af9beb8b28e6",
                  "1": "0.9"
                },
                {
                  "0": "300006202d7f0700aaf8c9cf05d3223f236048836ad6b3664ab4cdddd1939b5b",
                  "1": "1.0"
                },
                {
                  "0": "6284c2bd33bc05992ee8e6468461ef7fcb286e2b7e169aae76a5aece66415f82",
                  "1": "0.95"
                },
                {
                  "0": "7664faa4e89a873acd08609c9dc05e59e750a4adcbd42478b939678acffed395",
                  "1": "0.95"
                },
                {
                  "0": "7fbfa45b0e1f8491243d40fd78206d4c5ba42f566a9ba4913188f4542fa7e4dd",
                  "1": "0.9"
                },
                {
                  "0": "ced6ee59ccfc504b666ac4e9980e05b5537386dac2f32ba245a86db1cb136bfc",
                  "1": "0.75"
                },
                {
                  "0": "2f48900497f85f5ebfb6e65fb6a3fa1ff2c1fc92dad7831e1fddcb147f99338c",
                  "1": "1.0"
                },
                {
                  "0": "2fe130f75be3709e23fe4e937bf1d00c7969d4a6e0cd5944802ddbf98d9e88ab",
                  "1": "0.9"
                },
                {
                  "0": "81e5da0009ec6ba7857765a0ef8cbd7efb04bbde0f9e9fe4c9a3d1efbb86b2dc",
                  "1": "0.9"
                }
              ],
              "schema": [
                {
                  "key": "0",
                  "name": "student_id_pseudonym",
                  "type": "string"
                },
                {
                  "key": "1",
                  "name": "avg(AttendanceCode_value)",
                  "type": "double"
                }
              ],
              "truncated": false
            },
            "isSummary": false,
            "language": "scala"
          },
          "persist_state": {
            "view": {
              "type": "details",
              "tableOptions": {},
              "chartOptions": {
                "chartType": "bar",
                "aggregationType": "sum",
                "categoryFieldKeys": [
                  "0"
                ],
                "seriesFieldKeys": [
                  "1"
                ],
                "isStacked": false
              }
            }
          }
        },
        "5b2ff650-214e-43c4-add7-22376e4b3b8f": {
          "type": "Synapse.DataFrame",
          "sync_state": {
            "table": {
              "rows": [
                {
                  "0": "e919d1612b18c5f6505e04e8843fe9774198c0de4c84c0ef17c033b45cfe35fd",
                  "1": "*",
                  "2": "*",
                  "3": "*",
                  "4": "Student",
                  "5": "9",
                  "6": "1.0",
                  "7": "ab2a9665-ce87-4120-a8b5-edd392875e42",
                  "8": "Mitchell High"
                },
                {
                  "0": "5931763df30af35c6b83421ac630b8b647cf5d5405f8b65b7e49a4b9300e0ea1",
                  "1": "*",
                  "2": "*",
                  "3": "*",
                  "4": "Student",
                  "5": "11",
                  "6": "1.0",
                  "7": "ab2a9665-ce87-4120-a8b5-edd392875e42",
                  "8": "Mitchell High"
                },
                {
                  "0": "bbee57a9314742a12e4490f868f7484e6ae24a4c07c998b681fdde2938d84a09",
                  "1": "*",
                  "2": "*",
                  "3": "*",
                  "4": "Student",
                  "5": "10",
                  "6": "1.0",
                  "7": "ab2a9665-ce87-4120-a8b5-edd392875e42",
                  "8": "Mitchell High"
                },
                {
                  "0": "2efbbf9e4cae48d02d440582f196b91c2b76bf24d58387d76ce5c453fe088fa8",
                  "1": "*",
                  "2": "*",
                  "3": "*",
                  "4": "Student",
                  "5": "11",
                  "6": "0.85",
                  "7": "ab2a9665-ce87-4120-a8b5-edd392875e42",
                  "8": "Mitchell High"
                },
                {
                  "0": "62198b3154089acf0d1464dacbf7d35ee5f62822a27c066bfc26faa85cef7ee8",
                  "1": "*",
                  "2": "*",
                  "3": "*",
                  "4": "Student",
                  "5": "11",
                  "6": "0.9",
                  "7": "ab2a9665-ce87-4120-a8b5-edd392875e42",
                  "8": "Mitchell High"
                },
                {
                  "0": "c49a8fa1a89ff16782c0e3995c0b0defce637d7d52d34762697a65388edc5ece",
                  "1": "*",
                  "2": "*",
                  "3": "*",
                  "4": "Student",
                  "5": "11",
                  "6": "0.95",
                  "7": "ab2a9665-ce87-4120-a8b5-edd392875e42",
                  "8": "Mitchell High"
                },
                {
                  "0": "0015dd1f2156b743b6e8ff6e6881ff9119ef58e71ddc8e85b11d755b3d654d4a",
                  "1": "*",
                  "2": "*",
                  "3": "*",
                  "4": "Student",
                  "5": "9",
                  "6": "0.95",
                  "7": "ab2a9665-ce87-4120-a8b5-edd392875e42",
                  "8": "Mitchell High"
                },
                {
                  "0": "e0eb9b73bc09c44a9f557aebb6a6bbff1a8af3a3a5dc0301e504d41912a7a086",
                  "1": "*",
                  "2": "*",
                  "3": "*",
                  "4": "Student",
                  "5": "9",
                  "6": "0.95",
                  "7": "ab2a9665-ce87-4120-a8b5-edd392875e42",
                  "8": "Mitchell High"
                },
                {
                  "0": "0b5385e59225f13056ff38dad3d9e2f0e1bc27cd276df0b5fdafde0315fe8242",
                  "1": "*",
                  "2": "*",
                  "3": "*",
                  "4": "Student",
                  "5": "12",
                  "6": "1.0",
                  "7": "ab2a9665-ce87-4120-a8b5-edd392875e42",
                  "8": "Mitchell High"
                },
                {
                  "0": "66ed9a086452ec90922d8427c18cf0845302955f85fd11edbc84cc7fceb8bf8e",
                  "1": "*",
                  "2": "*",
                  "3": "*",
                  "4": "Student",
                  "5": "12",
                  "6": "0.95",
                  "7": "ab2a9665-ce87-4120-a8b5-edd392875e42",
                  "8": "Mitchell High"
                }
              ],
              "schema": [
                {
                  "key": "0",
                  "name": "StudentId_pseudonym",
                  "type": "string"
                },
                {
                  "key": "1",
                  "name": "Surname",
                  "type": "string"
                },
                {
                  "key": "2",
                  "name": "GivenName",
                  "type": "string"
                },
                {
                  "key": "3",
                  "name": "MiddleName",
                  "type": "string"
                },
                {
                  "key": "4",
                  "name": "PersonRole",
                  "type": "string"
                },
                {
                  "key": "5",
                  "name": "StudentGrade",
                  "type": "string"
                },
                {
                  "key": "6",
                  "name": "AverageAttendance",
                  "type": "double"
                },
                {
                  "key": "7",
                  "name": "OrganizationId",
                  "type": "string"
                },
                {
                  "key": "8",
                  "name": "OrganizationName",
                  "type": "string"
                }
              ],
              "truncated": false
            },
            "isSummary": false,
            "language": "scala"
          },
          "persist_state": {
            "view": {
              "type": "details",
              "tableOptions": {},
              "chartOptions": {
                "chartType": "bar",
                "aggregationType": "sum",
                "categoryFieldKeys": [
                  "0"
                ],
                "seriesFieldKeys": [
                  "6"
                ],
                "isStacked": false
              }
            }
          }
        }
      }
    }
  },
  "nbformat": 4,
  "nbformat_minor": 2
}